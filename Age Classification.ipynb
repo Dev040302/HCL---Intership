{
  "nbformat": 4,
  "nbformat_minor": 0,
  "metadata": {
    "colab": {
      "name": "Age detection.ipynb",
      "provenance": [],
      "collapsed_sections": []
    },
    "kernelspec": {
      "name": "python3",
      "display_name": "Python 3"
    },
    "language_info": {
      "name": "python"
    }
  },
  "cells": [
    {
      "cell_type": "code",
      "execution_count": null,
      "metadata": {
        "id": "3x60mvD_Yf0t"
      },
      "outputs": [],
      "source": [
        "import numpy as np\n",
        "import cv2\n",
        "import os\n",
        "from tensorflow.keras.models import load_model\n",
        "import time\n",
        "from datetime import datetime\n",
        "from io import BytesIO\n",
        "from PIL import Image\n",
        "from google.colab.patches import cv2_imshow as cvm"
      ]
    },
    {
      "cell_type": "code",
      "source": [
        "model = load_model(\"age_detect_cnn_model.h5\")\n",
        "age_ranges = ['1-2', '3-9', '10-20', '21-27', '28-45', '46-65', '66-116']"
      ],
      "metadata": {
        "id": "0LIIWgfZY5xP"
      },
      "execution_count": null,
      "outputs": []
    },
    {
      "cell_type": "code",
      "source": [
        "face_cascade = cv2.CascadeClassifier(\"haarcascade_frontalface_default.xml\")"
      ],
      "metadata": {
        "id": "EjFMNSVHY9H7"
      },
      "execution_count": null,
      "outputs": []
    },
    {
      "cell_type": "code",
      "source": [
        "def shrink_face_roi(x, y, w, h, scale=0.9):\n",
        "    wh_multiplier = (1-scale)/2\n",
        "    x_new = int(x + (w * wh_multiplier))\n",
        "    y_new = int(y + (h * wh_multiplier))\n",
        "    w_new = int(w * scale)\n",
        "    h_new = int(h * scale)\n",
        "    return (x_new, y_new, w_new, h_new)"
      ],
      "metadata": {
        "id": "8hTnpzu9Y_n6"
      },
      "execution_count": null,
      "outputs": []
    },
    {
      "cell_type": "code",
      "source": [
        "def create_age_text(img, text, pct_text, x, y, w, h):\n",
        "\n",
        "    fontFace = cv2.FONT_HERSHEY_SIMPLEX\n",
        "    text_scale = 1.2\n",
        "    yrsold_scale = 0.7\n",
        "    pct_text_scale = 0.65\n",
        "\n",
        "    (text_width, text_height), text_bsln = cv2.getTextSize(text, fontFace=fontFace, fontScale=text_scale, thickness=2)\n",
        "    (yrsold_width, yrsold_height), yrsold_bsln = cv2.getTextSize(\"years old\", fontFace=fontFace, fontScale=yrsold_scale, thickness=1)\n",
        "    (pct_text_width, pct_text_height), pct_text_bsln = cv2.getTextSize(pct_text, fontFace=fontFace, fontScale=pct_text_scale, thickness=1)\n",
        "\n",
        "    x_center = x + (w/2)\n",
        "    y_text_center = y + h + 20\n",
        "    y_yrsold_center = y + h + 48\n",
        "    y_pct_text_center = y + h + 75\n",
        "\n",
        "    x_text_org = int(round(x_center - (text_width / 2)))\n",
        "    y_text_org = int(round(y_text_center + (text_height / 2)))\n",
        "    x_yrsold_org = int(round(x_center - (yrsold_width / 2)))\n",
        "    y_yrsold_org = int(round(y_yrsold_center + (yrsold_height / 2)))\n",
        "    x_pct_text_org = int(round(x_center - (pct_text_width / 2)))\n",
        "    y_pct_text_org = int(round(y_pct_text_center + (pct_text_height / 2)))\n",
        "\n",
        "    face_age_background = cv2.rectangle(img, (x-1, y+h), (x+w+1, y+h+94), (0, 100, 0), cv2.FILLED)\n",
        "    face_age_text = cv2.putText(img, text, org=(x_text_org, y_text_org), fontFace=fontFace, fontScale=text_scale, thickness=2, color=(255, 255, 255), lineType=cv2.LINE_AA)\n",
        "    yrsold_text = cv2.putText(img, \"years old\", org=(x_yrsold_org, y_yrsold_org), fontFace=fontFace, fontScale=yrsold_scale, thickness=1, color=(255, 255, 255), lineType=cv2.LINE_AA)\n",
        "    pct_age_text = cv2.putText(img, pct_text, org=(x_pct_text_org, y_pct_text_org), fontFace=fontFace, fontScale=pct_text_scale, thickness=1, color=(255, 255, 255), lineType=cv2.LINE_AA)\n",
        "\n",
        "    return (face_age_background, face_age_text, yrsold_text)"
      ],
      "metadata": {
        "id": "XtaeGsMJZBaL"
      },
      "execution_count": null,
      "outputs": []
    },
    {
      "cell_type": "code",
      "source": [
        "def classify_age(img):\n",
        "\n",
        "    img_copy = np.copy(img)\n",
        "    img_gray = cv2.cvtColor(img, cv2.COLOR_BGR2GRAY)\n",
        "\n",
        "    faces = face_cascade.detectMultiScale(img_copy, scaleFactor=1.2, minNeighbors=6, minSize=(100, 100))\n",
        "\n",
        "    for i, (x, y, w, h) in enumerate(faces):\n",
        "\n",
        "        face_rect = cv2.rectangle(img_copy, (x, y), (x+w, y+h), (0, 100, 0), thickness=2)\n",
        "        \n",
        "        x2, y2, w2, h2 = shrink_face_roi(x, y, w, h)\n",
        "        face_roi = img_gray[y2:y2+h2, x2:x2+w2]\n",
        "        face_roi = cv2.resize(face_roi, (200, 200))\n",
        "        face_roi = face_roi.reshape(-1, 200, 200, 1)\n",
        "        face_age = age_ranges[np.argmax(model.predict(face_roi))]\n",
        "        face_age_pct = f\"({round(np.max(model.predict(face_roi))*100, 2)}%)\"\n",
        "        \n",
        "        face_age_background, face_age_text, yrsold_text = create_age_text(img_copy, face_age, face_age_pct, x, y, w, h)\n",
        "\n",
        "    return img_copy"
      ],
      "metadata": {
        "id": "P1QkixqMZQjn"
      },
      "execution_count": null,
      "outputs": []
    },
    {
      "cell_type": "code",
      "source": [
        "def new_img_name(org_img_path):\n",
        "    img_path, img_name_ext = os.path.split(org_img_path)\n",
        "    img_name, img_ext = os.path.splitext(img_name_ext)\n",
        "\n",
        "    new_img_name_ext = img_name+\"_WITH_AGE\"+img_ext\n",
        "    new_img_path = os.path.join(img_path, new_img_name_ext)\n",
        "\n",
        "    return new_img_path"
      ],
      "metadata": {
        "id": "jGo6lgYnZjPz"
      },
      "execution_count": null,
      "outputs": []
    },
    {
      "cell_type": "code",
      "source": [
        "def new_vid_name(org_vid_path):\n",
        "    vid_path, vid_name_ext = os.path.split(org_vid_path)\n",
        "    vid_name, vid_ext = os.path.splitext(vid_name_ext)\n",
        "\n",
        "    new_vid_name_ext = vid_name+\"_WITH_AGE\"+\".mp4\"\n",
        "    new_vid_path = os.path.join(vid_path, new_vid_name_ext)\n",
        "\n",
        "    return new_vid_path"
      ],
      "metadata": {
        "id": "5tccMToFZlNZ"
      },
      "execution_count": null,
      "outputs": []
    },
    {
      "cell_type": "markdown",
      "source": [
        "# **Age Detection in Image**"
      ],
      "metadata": {
        "id": "6eDDqJ6RjdsR"
      }
    },
    {
      "cell_type": "code",
      "source": [
        "from google.colab import files\n",
        "img=files.upload()\n",
        "image=next(iter(img))"
      ],
      "metadata": {
        "id": "bFW7DLo-bpXH"
      },
      "execution_count": null,
      "outputs": []
    },
    {
      "cell_type": "code",
      "source": [
        "img = cv2.imread(image)\n",
        "age_img = classify_age(img)\n",
        "\n",
        "try:\n",
        "    new_my_image = new_img_name(image)\n",
        "    cv2.imwrite(new_my_image, age_img)\n",
        "    print(f\"Saved to {new_my_image}\")\n",
        "except:\n",
        "    print(\"Error: Could not save image!\")\n",
        "\n",
        "cvm(age_img)\n",
        "cv2.waitKey(0);"
      ],
      "metadata": {
        "id": "UclrhmfEbsAe"
      },
      "execution_count": null,
      "outputs": []
    },
    {
      "cell_type": "markdown",
      "source": [
        "# **Age Detection in Live Camera Feeds**"
      ],
      "metadata": {
        "id": "4_oVNT4Zj3mQ"
      }
    },
    {
      "cell_type": "code",
      "source": [
        "cap = cv2.VideoCapture(0)\n",
        "\n",
        "if (cap.isOpened() == False): \n",
        "    print(\"Unable to read camera feed!\")\n",
        "\n",
        "frame_width = int(cap.get(3))\n",
        "frame_height = int(cap.get(4))\n",
        "\n",
        "fourcc = cv2.VideoWriter_fourcc(*'MP4V')\n",
        "cur_time = datetime.fromtimestamp(time.time()).strftime('%Y%m%d%H%M%S')\n",
        "out = cv2.VideoWriter(f\"Webcam_{cur_time}_WITH_AGE.mp4\", fourcc, 18, (frame_width, frame_height))\n",
        "\n",
        "while(cap.isOpened()):\n",
        "\n",
        "    ret, frame = cap.read()\n",
        "    \n",
        "    if ret==True:\n",
        "\n",
        "        age_img = classify_age(frame)\n",
        "\n",
        "        out.write(age_img)\n",
        "\n",
        "        cv2.imshow(\"Age Detection on Live Video\", age_img)\n",
        "\n",
        "        if cv2.waitKey(1) & 0xFF == ord('q'):\n",
        "            break\n",
        "    \n",
        "    else:\n",
        "        break\n",
        "\n",
        "cap.release()\n",
        "out.release()\n",
        "cv2.destroyAllWindows()\n",
        "print(f\"Saved to Webcam_{cur_time}_WITH_AGE.mp4\")\n",
        "\n"
      ],
      "metadata": {
        "id": "vguUDQQZfF5a"
      },
      "execution_count": null,
      "outputs": []
    },
    {
      "cell_type": "markdown",
      "source": [
        "# **Age Detection in Video**"
      ],
      "metadata": {
        "id": "BdVj2PI_kDbC"
      }
    },
    {
      "cell_type": "code",
      "source": [
        "from google.colab import files\n",
        "Vid=files.upload()\n",
        "video=next(iter(Vid))"
      ],
      "metadata": {
        "id": "zk9-KxEQglUk"
      },
      "execution_count": null,
      "outputs": []
    },
    {
      "cell_type": "code",
      "source": [
        "cap = cv2.VideoCapture(video)\n",
        "\n",
        "if (cap.isOpened() == False): \n",
        "    print(\"Unable to read video!\")\n",
        "\n",
        "frame_width = int(cap.get(3))\n",
        "frame_height = int(cap.get(4))\n",
        "\n",
        "fourcc = cv2.VideoWriter_fourcc(*'MP4V')\n",
        "new_my_video = new_vid_name(video)\n",
        "out = cv2.VideoWriter(new_my_video, fourcc, 18, (frame_width, frame_height))\n",
        "\n",
        "while(cap.isOpened()):\n",
        "    \n",
        "    ret, frame = cap.read()\n",
        "    \n",
        "    if ret==True:\n",
        "        \n",
        "        age_img = classify_age(frame)\n",
        "        \n",
        "        out.write(age_img)\n",
        "        \n",
        "        cvm(age_img)\n",
        "\n",
        "        if cv2.waitKey(1) & 0xFF == ord('q'):\n",
        "            break\n",
        "\n",
        "    else:\n",
        "        break\n",
        "\n",
        "cap.release()\n",
        "out.release()\n",
        "cv2.destroyAllWindows()\n",
        "print(f\"Saved to {new_my_video}\")"
      ],
      "metadata": {
        "id": "dRTopN2ihMa_"
      },
      "execution_count": null,
      "outputs": []
    }
  ]
}